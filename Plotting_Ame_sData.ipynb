{
  "nbformat": 4,
  "nbformat_minor": 0,
  "metadata": {
    "colab": {
      "name": "Plotting_Ame-sData.ipynb",
      "provenance": [],
      "collapsed_sections": []
    },
    "kernelspec": {
      "name": "python3",
      "display_name": "Python 3"
    },
    "language_info": {
      "name": "python"
    }
  },
  "cells": [
    {
      "cell_type": "code",
      "execution_count": 1,
      "metadata": {
        "colab": {
          "base_uri": "https://localhost:8080/"
        },
        "id": "JSvAvx1pwpNa",
        "outputId": "df3bb9b7-b91e-4c4f-e4ee-3fea61d228be"
      },
      "outputs": [
        {
          "output_type": "stream",
          "name": "stdout",
          "text": [
            "Mounted at /content/drive\n"
          ]
        }
      ],
      "source": [
        "# Upload your google Drive\n",
        "from google.colab import drive\n",
        "drive.mount('/content/drive')"
      ]
    },
    {
      "cell_type": "code",
      "source": [
        "# Acces to the folder \n",
        "FolderName = 'Colab Notebooks'\n",
        "path_config_file = '/content/drive/My Drive/'+FolderName+'/AUDITION_2000ms/'\n",
        "path_config_file"
      ],
      "metadata": {
        "colab": {
          "base_uri": "https://localhost:8080/",
          "height": 35
        },
        "id": "_Rb8BZJkxwG2",
        "outputId": "00e6c372-1525-45b9-ae39-505823da27f4"
      },
      "execution_count": 2,
      "outputs": [
        {
          "output_type": "execute_result",
          "data": {
            "text/plain": [
              "'/content/drive/My Drive/Colab Notebooks/AUDITION_2000ms/'"
            ],
            "application/vnd.google.colaboratory.intrinsic+json": {
              "type": "string"
            }
          },
          "metadata": {},
          "execution_count": 2
        }
      ]
    },
    {
      "cell_type": "code",
      "source": [
        "# The libraries needed\n",
        "import os\n",
        "import scipy.io as sio\n",
        "from os.path import dirname, join as pjoin\n",
        "import numpy as np\n",
        "\n",
        "# list all the files that are part of the dataset\n",
        "all_mats = [i for i in os.listdir(path_config_file) if 'mat' in i]\n",
        "\n",
        "# load the time-series data in each of the data files\n",
        "# and store them in a numpy array\n",
        "data_s = []\n",
        "data_r = []\n",
        "for mat in all_mats:\n",
        "  matstruct_fname = pjoin(path_config_file, mat)\n",
        "  s = sio.loadmat(matstruct_fname)['Sr'] #,mdict=None, appendmat=True,mat_dtype=True\n",
        "  r = sio.loadmat(matstruct_fname)['Rr']\n",
        "  data_s.append(s)\n",
        "  data_r.append(r)\n",
        "data_s = np.concatenate(data_s,axis=0)\n",
        "data_r = np.concatenate(data_r,axis=0)\n",
        "\n",
        "# data contains 2595 points, remember that each iteration has 519 points"
      ],
      "metadata": {
        "id": "BRpSQneOyqcf"
      },
      "execution_count": 3,
      "outputs": []
    },
    {
      "cell_type": "code",
      "source": [
        "DUR = 2000\n",
        "BEATS = 3\n",
        "REP = 5\n",
        "PTS = BEATS*REP+1\n",
        "TRY_DUR = DUR*(REP+1)\n",
        "nb_pts = 519\n",
        "IT = [1,2,3,4]\n",
        "pts4it = [num*nb_pts for num in IT]\n",
        "\n",
        "# Stimuli\n",
        "one_pt_IT1 = np.array([n for n in data_s[0]])\n",
        "one_pt_IT2 = np.array([n for n in data_s[pts4it[0]]])\n",
        "one_pt_IT3 = np.array([n for n in data_s[pts4it[1]]])\n",
        "one_pt_IT4 = np.array([n for n in data_s[pts4it[2]]])\n",
        "one_pt_IT5 = np.array([n for n in data_s[pts4it[3]]])\n",
        "\n",
        "# one_pt_IT2 = data[pts4it[0]]\n",
        "# one_pt_IT3 = data[pts4it[1]]\n",
        "# one_pt_IT4 = data[pts4it[2]]\n",
        "# one_pt_IT5 = data[pts4it[3]]\n",
        "\n",
        "# reshape to get only 1-D\n",
        "nreps,nvow,nsamps=one_pt_IT1.shape\n",
        "data_s1 = np.reshape(one_pt_IT1,(nreps*nvow,nsamps),order='F') \n",
        "\n",
        "# Response\n",
        "r_IT1 = np.array([n for n in data_r[0]])\n",
        "r_IT2 = np.array([n for n in data_r[pts4it[0]]])\n",
        "r_IT3 = np.array([n for n in data_r[pts4it[1]]])\n",
        "r_IT4 = np.array([n for n in data_r[pts4it[2]]])\n",
        "r_IT5 = np.array([n for n in data_r[pts4it[3]]])\n",
        "\n",
        "# reshape to get only 1-D\n",
        "nreps,nvow,nsamps=r_IT1.shape\n",
        "data_r1 = np.reshape(r_IT1,(nreps*nvow,nsamps),order='F') \n"
      ],
      "metadata": {
        "id": "V9Y5KzOcK3Ov"
      },
      "execution_count": 5,
      "outputs": []
    },
    {
      "cell_type": "code",
      "source": [
        "import matplotlib.pyplot as plt\n",
        "\n",
        "#fig, (ax1, ax2) = plt.subplots(2, 1, figsize=(5, 2.7))\n",
        "y_stm = np.ones((1,PTS), dtype=int)*2\n",
        "y_tap = np.ones((1,r_IT1.shape[1]), dtype=int)\n",
        "plt.figure(figsize=(13,7))\n",
        "plt.plot(data_s1,y_stm,'s',color='red',label='Simuli')\n",
        "plt.plot(data_r1,y_tap,'o',color='blue',label='Tap')\n",
        "plt.axis([0,TRY_DUR,0,3])\n",
        "plt.xticks(fontsize=14)\n",
        "plt.yticks([1,2],['Tap','Stimuli'],fontsize=16)\n",
        "plt.title('First Iteration',fontsize=20)\n",
        "plt.xlabel('Time (in sec)',fontsize=16)"
      ],
      "metadata": {
        "colab": {
          "base_uri": "https://localhost:8080/",
          "height": 490
        },
        "id": "4WYsa8OeLdvN",
        "outputId": "9331dc91-05b1-4615-b175-764866c635cc"
      },
      "execution_count": 6,
      "outputs": [
        {
          "output_type": "execute_result",
          "data": {
            "text/plain": [
              "Text(0.5, 0, 'Time (in sec)')"
            ]
          },
          "metadata": {},
          "execution_count": 6
        },
        {
          "output_type": "display_data",
          "data": {
            "text/plain": [
              "<Figure size 936x504 with 1 Axes>"
            ],
            "image/png": "[encoded data removed]"
          },
          "metadata": {
            "needs_background": "light"
          }
        }
      ]
    },
    {
      "cell_type": "code",
      "source": [
        "from tabulate import tabulate\n",
        "mylabels = np.array([111,112,113,121,122,123,131,132,\n",
        "          211,212,213,221,223,231,232,233,\n",
        "          311,312,321,322,323,332])\n",
        "\n",
        "mydata = [[\"111\"],[\"112\"],[\"113\"],[\"121\"],[\"122\"],[\"123\"],[\"131\"],[\"132\"],\n",
        "          [\"211\"],[\"212\"],[\"213\"],[\"221\"],[\"223\"], [\"231\"],[\"232\"],[\"233\"],\n",
        "          [\"311\"],[\"312\"],[\"321\"],[\"322\"],[\"323\"],[\"332\"]\n",
        "]\n",
        "# create header\n",
        "head = [\"Integer Ratio Rhythms\"]\n",
        " \n",
        "# display table\n",
        "print(tabulate(mydata, headers=head, tablefmt=\"grid\"))"
      ],
      "metadata": {
        "colab": {
          "base_uri": "https://localhost:8080/"
        },
        "id": "Yb7EXuFOKQDR",
        "outputId": "058d07a4-7cf8-4935-ffbc-13cad71251ee"
      },
      "execution_count": 7,
      "outputs": [
        {
          "output_type": "stream",
          "name": "stdout",
          "text": [
            "+-------------------------+\n",
            "|   Integer Ratio Rhythms |\n",
            "+=========================+\n",
            "|                     111 |\n",
            "+-------------------------+\n",
            "|                     112 |\n",
            "+-------------------------+\n",
            "|                     113 |\n",
            "+-------------------------+\n",
            "|                     121 |\n",
            "+-------------------------+\n",
            "|                     122 |\n",
            "+-------------------------+\n",
            "|                     123 |\n",
            "+-------------------------+\n",
            "|                     131 |\n",
            "+-------------------------+\n",
            "|                     132 |\n",
            "+-------------------------+\n",
            "|                     211 |\n",
            "+-------------------------+\n",
            "|                     212 |\n",
            "+-------------------------+\n",
            "|                     213 |\n",
            "+-------------------------+\n",
            "|                     221 |\n",
            "+-------------------------+\n",
            "|                     223 |\n",
            "+-------------------------+\n",
            "|                     231 |\n",
            "+-------------------------+\n",
            "|                     232 |\n",
            "+-------------------------+\n",
            "|                     233 |\n",
            "+-------------------------+\n",
            "|                     311 |\n",
            "+-------------------------+\n",
            "|                     312 |\n",
            "+-------------------------+\n",
            "|                     321 |\n",
            "+-------------------------+\n",
            "|                     322 |\n",
            "+-------------------------+\n",
            "|                     323 |\n",
            "+-------------------------+\n",
            "|                     332 |\n",
            "+-------------------------+\n"
          ]
        }
      ]
    }
  ]
}